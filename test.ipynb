{
 "cells": [
  {
   "cell_type": "code",
   "execution_count": 2,
   "metadata": {},
   "outputs": [],
   "source": [
    "import nglui"
   ]
  },
  {
   "cell_type": "code",
   "execution_count": 11,
   "metadata": {},
   "outputs": [
    {
     "ename": "KeyError",
     "evalue": "'test'",
     "output_type": "error",
     "traceback": [
      "\u001b[0;31m---------------------------------------------------------------------------\u001b[0m",
      "\u001b[0;31mKeyError\u001b[0m                                  Traceback (most recent call last)",
      "Cell \u001b[0;32mIn[11], line 1\u001b[0m\n\u001b[0;32m----> 1\u001b[0m \u001b[43mnglui\u001b[49m\u001b[38;5;241;43m.\u001b[39;49m\u001b[43mstatebuilder\u001b[49m\u001b[38;5;241;43m.\u001b[39;49m\u001b[43msite_utils\u001b[49m\u001b[38;5;241;43m.\u001b[39;49m\u001b[43mget_default_config\u001b[49m\u001b[43m(\u001b[49m\u001b[43mconfig_key\u001b[49m\u001b[38;5;241;43m=\u001b[39;49m\u001b[38;5;124;43m'\u001b[39;49m\u001b[38;5;124;43mtest\u001b[39;49m\u001b[38;5;124;43m'\u001b[39;49m\u001b[43m)\u001b[49m\n",
      "File \u001b[0;32m~/Work/Code/Guidebook/.venv/lib/python3.12/site-packages/nglui/site_utils.py:125\u001b[0m, in \u001b[0;36mget_default_config\u001b[0;34m(config_key)\u001b[0m\n\u001b[1;32m    123\u001b[0m \u001b[38;5;28;01mif\u001b[39;00m config_key \u001b[38;5;129;01mis\u001b[39;00m \u001b[38;5;28;01mNone\u001b[39;00m:\n\u001b[1;32m    124\u001b[0m     config_key \u001b[38;5;241m=\u001b[39m default_key\n\u001b[0;32m--> 125\u001b[0m \u001b[38;5;28;01mreturn\u001b[39;00m attrs\u001b[38;5;241m.\u001b[39masdict(\u001b[43mNGL_CONFIG\u001b[49m\u001b[43m[\u001b[49m\u001b[43mconfig_key\u001b[49m\u001b[43m]\u001b[49m)\n",
      "\u001b[0;31mKeyError\u001b[0m: 'test'"
     ]
    }
   ],
   "source": [
    "nglui.statebuilder.site_utils.get_default_config(config_key='test')"
   ]
  },
  {
   "cell_type": "code",
   "execution_count": 12,
   "metadata": {},
   "outputs": [
    {
     "name": "stdout",
     "output_type": "stream",
     "text": [
      "\u001b[0;31mInit signature:\u001b[0m\n",
      "\u001b[0mnglui\u001b[0m\u001b[0;34m.\u001b[0m\u001b[0mstatebuilder\u001b[0m\u001b[0;34m.\u001b[0m\u001b[0mStateBuilder\u001b[0m\u001b[0;34m(\u001b[0m\u001b[0;34m\u001b[0m\n",
      "\u001b[0;34m\u001b[0m    \u001b[0mlayers\u001b[0m\u001b[0;34m:\u001b[0m \u001b[0;34m'list'\u001b[0m \u001b[0;34m=\u001b[0m \u001b[0;34m[\u001b[0m\u001b[0;34m]\u001b[0m\u001b[0;34m,\u001b[0m\u001b[0;34m\u001b[0m\n",
      "\u001b[0;34m\u001b[0m    \u001b[0mbase_state\u001b[0m\u001b[0;34m:\u001b[0m \u001b[0;34m'Optional[dict]'\u001b[0m \u001b[0;34m=\u001b[0m \u001b[0;32mNone\u001b[0m\u001b[0;34m,\u001b[0m\u001b[0;34m\u001b[0m\n",
      "\u001b[0;34m\u001b[0m    \u001b[0murl_prefix\u001b[0m\u001b[0;34m:\u001b[0m \u001b[0;34m'Optional[str]'\u001b[0m \u001b[0;34m=\u001b[0m \u001b[0;32mNone\u001b[0m\u001b[0;34m,\u001b[0m\u001b[0;34m\u001b[0m\n",
      "\u001b[0;34m\u001b[0m    \u001b[0mstate_server\u001b[0m\u001b[0;34m:\u001b[0m \u001b[0;34m'Optional[str]'\u001b[0m \u001b[0;34m=\u001b[0m \u001b[0;32mNone\u001b[0m\u001b[0;34m,\u001b[0m\u001b[0;34m\u001b[0m\n",
      "\u001b[0;34m\u001b[0m    \u001b[0mresolution\u001b[0m\u001b[0;34m:\u001b[0m \u001b[0;34m'Optional[list]'\u001b[0m \u001b[0;34m=\u001b[0m \u001b[0;32mNone\u001b[0m\u001b[0;34m,\u001b[0m\u001b[0;34m\u001b[0m\n",
      "\u001b[0;34m\u001b[0m    \u001b[0mview_kws\u001b[0m\u001b[0;34m:\u001b[0m \u001b[0;34m'dict'\u001b[0m \u001b[0;34m=\u001b[0m \u001b[0;34m{\u001b[0m\u001b[0;34m}\u001b[0m\u001b[0;34m,\u001b[0m\u001b[0;34m\u001b[0m\n",
      "\u001b[0;34m\u001b[0m    \u001b[0mclient\u001b[0m\u001b[0;34m:\u001b[0m \u001b[0;34m\"Optional['caveclient.CAVEclient']\"\u001b[0m \u001b[0;34m=\u001b[0m \u001b[0;32mNone\u001b[0m\u001b[0;34m,\u001b[0m\u001b[0;34m\u001b[0m\n",
      "\u001b[0;34m\u001b[0m    \u001b[0mtarget_site\u001b[0m\u001b[0;34m:\u001b[0m \u001b[0;34m\"Optional[Literal['seunglab', 'mainline', 'cave-explorer', 'spelunker']]\"\u001b[0m \u001b[0;34m=\u001b[0m \u001b[0;32mNone\u001b[0m\u001b[0;34m,\u001b[0m\u001b[0;34m\u001b[0m\n",
      "\u001b[0;34m\u001b[0m    \u001b[0mconfig_key\u001b[0m\u001b[0;34m:\u001b[0m \u001b[0;34m'Optional[str]'\u001b[0m \u001b[0;34m=\u001b[0m \u001b[0;32mNone\u001b[0m\u001b[0;34m,\u001b[0m\u001b[0;34m\u001b[0m\n",
      "\u001b[0;34m\u001b[0m\u001b[0;34m)\u001b[0m\u001b[0;34m\u001b[0m\u001b[0;34m\u001b[0m\u001b[0m\n",
      "\u001b[0;31mDocstring:\u001b[0m     \n",
      "A class for schematic mapping data frames into neuroglancer states.\n",
      "\n",
      "Parameters\n",
      "----------\n",
      "layers : list of nglui.statebuilder.layers.LayerConfigBase, optional\n",
      "    List of layers to add. Defaults to [].\n",
      "base_state : dict, optional\n",
      "    JSON state to add to. Defaults to None.\n",
      "url_prefix : str, optional\n",
      "    http(s) path to Neuroglancer deployment to use. Defaults to None,\n",
      "    which will use https://neuromancer-seung-import.appspot.com\n",
      "state_server : str, optional\n",
      "    State server to post links to. Defaults to None.\n",
      "resolution : list of float, optional\n",
      "    3-element vector controlling the viewer resolution. Defaults to None.\n",
      "    If None and a client is set, uses the client viewer resolution.\n",
      "view_kws : dict, optional\n",
      "    Dictionary controlling view parameters. Defaults to {}.\n",
      "\n",
      "    Keys are:\n",
      "        show_slices : bool, optional\n",
      "            Sets if slices are shown in the 3d view. Defaults to False.\n",
      "        layout : str, optional\n",
      "            `xy-3d`/`xz-3d`/`yz-3d` (sections plus 3d pane),\n",
      "            `xy`/`yz`/`xz`/`3d` (only one pane), or `4panel` (all panes).\n",
      "            Default is `xy-3d`.\n",
      "        show_axis_lines : bool, optional\n",
      "            Determines if the axis lines are shown in the middle of each view.\n",
      "        show_scale_bar : bool, optional\n",
      "            Toggles showing the scale bar.\n",
      "        orthographic : bool, optional\n",
      "            Toggles orthographic view in the 3d pane.\n",
      "        position : list of float, optional (length-3)\n",
      "            Determines the centered location.\n",
      "        zoom_image : float, optional\n",
      "            Zoom level for the imagery in units of nm per voxel. Defaults to 8.\n",
      "        zoom_3d : float, optional\n",
      "            Zoom level for the 3d pane. Defaults to 2000. Smaller numbers are\n",
      "            more zoomed in.\n",
      "        background_color : str or list of float, optional\n",
      "            Sets the background color of the 3d view. Arguments can be rgb\n",
      "            values, hex colors, or named web colors. Defaults to black.\n",
      "client : caveclient.CAVEclient, optional\n",
      "    A caveclient to get defaults from. Defaults to None.\n",
      "target_site : str, optional\n",
      "    Target Neuroglancer category: either \"seunglab\" or \"mainline\"/\"cave-explorer\"/\"spelunker\". Defaults to None.\n",
      "    Will be looked up automatically based on ngl_url, if used.\n",
      "\u001b[0;31mFile:\u001b[0m           ~/Work/Code/Guidebook/.venv/lib/python3.12/site-packages/nglui/statebuilder/statebuilder.py\n",
      "\u001b[0;31mType:\u001b[0m           type\n",
      "\u001b[0;31mSubclasses:\u001b[0m     "
     ]
    }
   ],
   "source": [
    "nglui.statebuilder.StateBuilder?"
   ]
  },
  {
   "cell_type": "code",
   "execution_count": 6,
   "metadata": {},
   "outputs": [
    {
     "name": "stdout",
     "output_type": "stream",
     "text": [
      "\u001b[0;31mInit signature:\u001b[0m\n",
      "\u001b[0mnglui\u001b[0m\u001b[0;34m.\u001b[0m\u001b[0mstatebuilder\u001b[0m\u001b[0;34m.\u001b[0m\u001b[0mStateBuilder\u001b[0m\u001b[0;34m(\u001b[0m\u001b[0;34m\u001b[0m\n",
      "\u001b[0;34m\u001b[0m    \u001b[0mlayers\u001b[0m\u001b[0;34m:\u001b[0m \u001b[0;34m'list'\u001b[0m \u001b[0;34m=\u001b[0m \u001b[0;34m[\u001b[0m\u001b[0;34m]\u001b[0m\u001b[0;34m,\u001b[0m\u001b[0;34m\u001b[0m\n",
      "\u001b[0;34m\u001b[0m    \u001b[0mbase_state\u001b[0m\u001b[0;34m:\u001b[0m \u001b[0;34m'Optional[dict]'\u001b[0m \u001b[0;34m=\u001b[0m \u001b[0;32mNone\u001b[0m\u001b[0;34m,\u001b[0m\u001b[0;34m\u001b[0m\n",
      "\u001b[0;34m\u001b[0m    \u001b[0murl_prefix\u001b[0m\u001b[0;34m:\u001b[0m \u001b[0;34m'Optional[str]'\u001b[0m \u001b[0;34m=\u001b[0m \u001b[0;32mNone\u001b[0m\u001b[0;34m,\u001b[0m\u001b[0;34m\u001b[0m\n",
      "\u001b[0;34m\u001b[0m    \u001b[0mstate_server\u001b[0m\u001b[0;34m:\u001b[0m \u001b[0;34m'Optional[str]'\u001b[0m \u001b[0;34m=\u001b[0m \u001b[0;32mNone\u001b[0m\u001b[0;34m,\u001b[0m\u001b[0;34m\u001b[0m\n",
      "\u001b[0;34m\u001b[0m    \u001b[0mresolution\u001b[0m\u001b[0;34m:\u001b[0m \u001b[0;34m'Optional[list]'\u001b[0m \u001b[0;34m=\u001b[0m \u001b[0;32mNone\u001b[0m\u001b[0;34m,\u001b[0m\u001b[0;34m\u001b[0m\n",
      "\u001b[0;34m\u001b[0m    \u001b[0mview_kws\u001b[0m\u001b[0;34m:\u001b[0m \u001b[0;34m'dict'\u001b[0m \u001b[0;34m=\u001b[0m \u001b[0;34m{\u001b[0m\u001b[0;34m}\u001b[0m\u001b[0;34m,\u001b[0m\u001b[0;34m\u001b[0m\n",
      "\u001b[0;34m\u001b[0m    \u001b[0mclient\u001b[0m\u001b[0;34m:\u001b[0m \u001b[0;34m\"Optional['caveclient.CAVEclient']\"\u001b[0m \u001b[0;34m=\u001b[0m \u001b[0;32mNone\u001b[0m\u001b[0;34m,\u001b[0m\u001b[0;34m\u001b[0m\n",
      "\u001b[0;34m\u001b[0m    \u001b[0mtarget_site\u001b[0m\u001b[0;34m:\u001b[0m \u001b[0;34m\"Optional[Literal['seunglab', 'mainline', 'cave-explorer', 'spelunker']]\"\u001b[0m \u001b[0;34m=\u001b[0m \u001b[0;32mNone\u001b[0m\u001b[0;34m,\u001b[0m\u001b[0;34m\u001b[0m\n",
      "\u001b[0;34m\u001b[0m    \u001b[0mconfig_key\u001b[0m\u001b[0;34m:\u001b[0m \u001b[0;34m'Optional[str]'\u001b[0m \u001b[0;34m=\u001b[0m \u001b[0;32mNone\u001b[0m\u001b[0;34m,\u001b[0m\u001b[0;34m\u001b[0m\n",
      "\u001b[0;34m\u001b[0m\u001b[0;34m)\u001b[0m\u001b[0;34m\u001b[0m\u001b[0;34m\u001b[0m\u001b[0m\n",
      "\u001b[0;31mDocstring:\u001b[0m     \n",
      "A class for schematic mapping data frames into neuroglancer states.\n",
      "\n",
      "Parameters\n",
      "----------\n",
      "layers : list of nglui.statebuilder.layers.LayerConfigBase, optional\n",
      "    List of layers to add. Defaults to [].\n",
      "base_state : dict, optional\n",
      "    JSON state to add to. Defaults to None.\n",
      "url_prefix : str, optional\n",
      "    http(s) path to Neuroglancer deployment to use. Defaults to None,\n",
      "    which will use https://neuromancer-seung-import.appspot.com\n",
      "state_server : str, optional\n",
      "    State server to post links to. Defaults to None.\n",
      "resolution : list of float, optional\n",
      "    3-element vector controlling the viewer resolution. Defaults to None.\n",
      "    If None and a client is set, uses the client viewer resolution.\n",
      "view_kws : dict, optional\n",
      "    Dictionary controlling view parameters. Defaults to {}.\n",
      "\n",
      "    Keys are:\n",
      "        show_slices : bool, optional\n",
      "            Sets if slices are shown in the 3d view. Defaults to False.\n",
      "        layout : str, optional\n",
      "            `xy-3d`/`xz-3d`/`yz-3d` (sections plus 3d pane),\n",
      "            `xy`/`yz`/`xz`/`3d` (only one pane), or `4panel` (all panes).\n",
      "            Default is `xy-3d`.\n",
      "        show_axis_lines : bool, optional\n",
      "            Determines if the axis lines are shown in the middle of each view.\n",
      "        show_scale_bar : bool, optional\n",
      "            Toggles showing the scale bar.\n",
      "        orthographic : bool, optional\n",
      "            Toggles orthographic view in the 3d pane.\n",
      "        position : list of float, optional (length-3)\n",
      "            Determines the centered location.\n",
      "        zoom_image : float, optional\n",
      "            Zoom level for the imagery in units of nm per voxel. Defaults to 8.\n",
      "        zoom_3d : float, optional\n",
      "            Zoom level for the 3d pane. Defaults to 2000. Smaller numbers are\n",
      "            more zoomed in.\n",
      "        background_color : str or list of float, optional\n",
      "            Sets the background color of the 3d view. Arguments can be rgb\n",
      "            values, hex colors, or named web colors. Defaults to black.\n",
      "client : caveclient.CAVEclient, optional\n",
      "    A caveclient to get defaults from. Defaults to None.\n",
      "target_site : str, optional\n",
      "    Target Neuroglancer category: either \"seunglab\" or \"mainline\"/\"cave-explorer\"/\"spelunker\". Defaults to None.\n",
      "    Will be looked up automatically based on ngl_url, if used.\n",
      "\u001b[0;31mFile:\u001b[0m           ~/Work/Code/Guidebook/.venv/lib/python3.12/site-packages/nglui/statebuilder/statebuilder.py\n",
      "\u001b[0;31mType:\u001b[0m           type\n",
      "\u001b[0;31mSubclasses:\u001b[0m     "
     ]
    }
   ],
   "source": [
    "\n",
    "sb = nglui.statebuilder.StateBuilder?"
   ]
  },
  {
   "cell_type": "code",
   "execution_count": null,
   "metadata": {},
   "outputs": [],
   "source": []
  }
 ],
 "metadata": {
  "kernelspec": {
   "display_name": ".venv",
   "language": "python",
   "name": "python3"
  },
  "language_info": {
   "codemirror_mode": {
    "name": "ipython",
    "version": 3
   },
   "file_extension": ".py",
   "mimetype": "text/x-python",
   "name": "python",
   "nbconvert_exporter": "python",
   "pygments_lexer": "ipython3",
   "version": "3.12.7"
  }
 },
 "nbformat": 4,
 "nbformat_minor": 2
}
