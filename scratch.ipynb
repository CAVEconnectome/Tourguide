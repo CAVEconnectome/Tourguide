{
 "cells": [
  {
   "cell_type": "code",
   "execution_count": 17,
   "metadata": {},
   "outputs": [],
   "source": [
    "import numpy as np\n",
    "import pandas as pd\n",
    "import pcg_skel\n",
    "from caveclient import CAVEclient\n",
    "client = CAVEclient('minnie65_phase3_v1')"
   ]
  },
  {
   "cell_type": "code",
   "execution_count": null,
   "metadata": {},
   "outputs": [],
   "source": [
    "import re\n",
    "import html2text\n",
    "def handle_error_message(error_message):\n",
    "    if not isinstance(error_message, str):\n",
    "        return str(error_message)\n",
    "    prefix_match = re.match(r\"(\\d{3} .+?) Server Error for url: (.+?) content:\", error_message)\n",
    "    prefix = prefix_match.group(1) if prefix_match else \"\"\n",
    "    endpoint_error = prefix_match.group(2) if prefix_match else \"\"\n",
    "\n",
    "    html_content = re.search(r\"content:b'(.*?)'$\", error_message, re.DOTALL)\n",
    "    if html_content:\n",
    "        converter = html2text.HTML2Text()\n",
    "        converter.ignore_links = True\n",
    "        converter.ignore_images = True\n",
    "        converter.ignore_newlines = True\n",
    "        converter.ignore_emphasis = True\n",
    "        content = converter.handle(html_content.group(1))\n",
    "        content = content.strip()\n",
    "\n",
    "        if prefix:\n",
    "            return f\"{prefix} at URL: {endpoint_error}\"\n",
    "        return content\n",
    "\n",
    "    return error_message\n"
   ]
  },
  {
   "cell_type": "code",
   "execution_count": 63,
   "metadata": {},
   "outputs": [],
   "source": [
    "error_message = \"503 Server Error: Service Temporarily Unavailable for url: https://minnie.microns-daf.com/l2cache/api/v1/table_mapping content:b'<html>\\r\\n<head><title>503 Service Temporarily Unavailable</title></head>\\r\\n<body>\\r\\n<center><h1>503 Service Temporarily Unavailable</h1></center>\\r\\n<hr><center>nginx</center>\\r\\n</body>\\r\\n</html>\\r\\n'\""
   ]
  },
  {
   "cell_type": "code",
   "execution_count": 64,
   "metadata": {},
   "outputs": [
    {
     "data": {
      "text/plain": [
       "'503 Server Error: Service Temporarily Unavailable at URL: https://minnie.microns-daf.com/l2cache/api/v1/table_mapping'"
      ]
     },
     "execution_count": 64,
     "metadata": {},
     "output_type": "execute_result"
    }
   ],
   "source": [
    "handle_error_message(error_message)"
   ]
  },
  {
   "cell_type": "code",
   "execution_count": 8,
   "metadata": {},
   "outputs": [
    {
     "data": {
      "text/plain": [
       "['Minnie65 Google', 'Minnie65 BossDB', 'Minnie65 Asia']"
      ]
     },
     "execution_count": 8,
     "metadata": {},
     "output_type": "execute_result"
    }
   ],
   "source": [
    "client.info.get_image_mirror_names()"
   ]
  },
  {
   "cell_type": "code",
   "execution_count": 15,
   "metadata": {},
   "outputs": [
    {
     "data": {
      "text/plain": [
       "{'aligned_volume': {'id': 1,\n",
       "  'name': 'minnie65_phase3',\n",
       "  'display_name': 'Minnie65',\n",
       "  'description': \"This is the second alignment of the IARPA 'minnie65' dataset, completed in the spring of 2020 that used the seamless approach.\",\n",
       "  'image_source': 'precomputed://https://storage.googleapis.com/iarpa_microns/minnie/minnie65/em'},\n",
       " 'segmentation_source': 'graphene://https://minnie.microns-daf.com/segmentation/table/minnie3_v1',\n",
       " 'skeleton_source': 'precomputed://middleauth+https://minnie.microns-daf.com/skeletoncache/api/v1/minnie65_phase3_v1/precomputed/skeleton',\n",
       " 'analysis_database': None,\n",
       " 'viewer_site': 'https://neuroglancer.neuvue.io/',\n",
       " 'synapse_table': 'synapses_pni_2',\n",
       " 'soma_table': 'nucleus_neuron_svm',\n",
       " 'local_server': 'https://minnie.microns-daf.com',\n",
       " 'description': 'This is the first version of Minnie that has proofreading enabled. Was first enabled on June 24, 2020. ',\n",
       " 'viewer_resolution_x': 4.0,\n",
       " 'viewer_resolution_y': 4.0,\n",
       " 'viewer_resolution_z': 40.0,\n",
       " 'proofreading_status_table': None,\n",
       " 'cell_identification_table': None,\n",
       " 'proofreading_review_table': None}"
      ]
     },
     "execution_count": 15,
     "metadata": {},
     "output_type": "execute_result"
    }
   ],
   "source": [
    "client.info.get_datastack_info(image_mirror=None)"
   ]
  },
  {
   "cell_type": "code",
   "execution_count": 16,
   "metadata": {},
   "outputs": [
    {
     "data": {
      "text/plain": [
       "{'aligned_volume': {'id': 1,\n",
       "  'name': 'minnie65_phase3',\n",
       "  'display_name': 'Minnie65',\n",
       "  'description': \"This is the second alignment of the IARPA 'minnie65' dataset, completed in the spring of 2020 that used the seamless approach.\",\n",
       "  'image_source': 'precomputed://https://storage.googleapis.com/iarpa_microns/minnie/minnie65/em'},\n",
       " 'segmentation_source': 'graphene://https://minnie.microns-daf.com/segmentation/table/minnie3_v1',\n",
       " 'skeleton_source': 'precomputed://middleauth+https://minnie.microns-daf.com/skeletoncache/api/v1/minnie65_phase3_v1/precomputed/skeleton',\n",
       " 'analysis_database': None,\n",
       " 'viewer_site': 'https://neuroglancer.neuvue.io/',\n",
       " 'synapse_table': 'synapses_pni_2',\n",
       " 'soma_table': 'nucleus_neuron_svm',\n",
       " 'local_server': 'https://minnie.microns-daf.com',\n",
       " 'description': 'This is the first version of Minnie that has proofreading enabled. Was first enabled on June 24, 2020. ',\n",
       " 'viewer_resolution_x': 4.0,\n",
       " 'viewer_resolution_y': 4.0,\n",
       " 'viewer_resolution_z': 40.0,\n",
       " 'proofreading_status_table': None,\n",
       " 'cell_identification_table': None,\n",
       " 'proofreading_review_table': None}"
      ]
     },
     "execution_count": 16,
     "metadata": {},
     "output_type": "execute_result"
    }
   ],
   "source": [
    "client.info.get_datastack_info()"
   ]
  },
  {
   "cell_type": "code",
   "execution_count": null,
   "metadata": {},
   "outputs": [],
   "source": [
    "from tourguide.flask_app.api import get_image_mirrors"
   ]
  },
  {
   "cell_type": "code",
   "execution_count": 3,
   "metadata": {},
   "outputs": [
    {
     "data": {
      "text/plain": [
       "['Minnie65 Google', 'Minnie65 BossDB', 'Minnie65 Asia']"
      ]
     },
     "execution_count": 3,
     "metadata": {},
     "output_type": "execute_result"
    }
   ],
   "source": [
    "client.info.get_image_mirror_names(datastack_name=\"minnie65_phase3_v1\")"
   ]
  },
  {
   "cell_type": "code",
   "execution_count": 3,
   "metadata": {},
   "outputs": [],
   "source": [
    "import datetime"
   ]
  },
  {
   "cell_type": "code",
   "execution_count": 5,
   "metadata": {},
   "outputs": [],
   "source": [
    "root_id = 864691135891272841\n",
    "now = datetime.datetime.now(datetime.timezone.utc)\n",
    "curr_ids = client.chunkedgraph.get_latest_roots(root_id, timestamp=now)"
   ]
  },
  {
   "cell_type": "code",
   "execution_count": 8,
   "metadata": {},
   "outputs": [
    {
     "data": {
      "text/plain": [
       "array([864691135977354819, 864691136813834611])"
      ]
     },
     "execution_count": 8,
     "metadata": {},
     "output_type": "execute_result"
    }
   ],
   "source": [
    "curr_ids[client.chunkedgraph.is_latest_roots(curr_ids)]"
   ]
  },
  {
   "cell_type": "code",
   "execution_count": null,
   "metadata": {},
   "outputs": [],
   "source": []
  },
  {
   "cell_type": "code",
   "execution_count": 2,
   "metadata": {},
   "outputs": [],
   "source": [
    "from guidebook.guidebook_lib import processing, states\n",
    "from guidebook.guidebook_app import utils\n",
    "\n",
    "states.set_default_ngl_configuration(\n",
    "    client.datastack_name,\n",
    "    target_site = 'spelunker',\n",
    "    target_url = None,\n",
    ")"
   ]
  },
  {
   "cell_type": "code",
   "execution_count": 3,
   "metadata": {},
   "outputs": [],
   "source": [
    "root_id = 864691135891272841\n",
    "split_point = [175417, 186193, 19949]"
   ]
  },
  {
   "cell_type": "code",
   "execution_count": 4,
   "metadata": {},
   "outputs": [],
   "source": [
    "nrn = pcg_skel.get_meshwork_from_client(root_id = root_id, client=client)\n"
   ]
  },
  {
   "cell_type": "code",
   "execution_count": 5,
   "metadata": {},
   "outputs": [],
   "source": [
    "vertex_df = processing.process_meshwork_to_dataframe(nrn)"
   ]
  },
  {
   "cell_type": "code",
   "execution_count": null,
   "metadata": {},
   "outputs": [],
   "source": [
    "path_df, l2_ids = processing.process_paths(\n",
    "    root_id,\n",
    "    vertex_df,\n",
    "    client=client,\n",
    "    compartment_filter='axon',\n",
    "    return_l2_ids=True,\n",
    "    min_path_length=10_000,\n",
    "    step_size=2_000,\n",
    ")\n",
    "\n",
    "sb_data = states.package_path_data(\n",
    "    path_df,\n",
    "    l2_ids,\n",
    "    client=client,\n",
    ")"
   ]
  },
  {
   "cell_type": "code",
   "execution_count": 9,
   "metadata": {},
   "outputs": [],
   "source": [
    "sb = states.make_path_statebuilder(\n",
    "    color='white',\n",
    "    resolution=[4,4,40],\n",
    "    use_skeleton_service=True,\n",
    "    split_positions=True,\n",
    "    client=client,\n",
    "    root_ids=[root_id],\n",
    "    add_restricted_segmentation_layer=True,\n",
    "    restricted_color='turquoise',\n",
    ")"
   ]
  },
  {
   "cell_type": "code",
   "execution_count": null,
   "metadata": {},
   "outputs": [],
   "source": [
    "print(\n",
    "    sb.render_state(sb_data, return_as='shorten')\n",
    ")"
   ]
  },
  {
   "cell_type": "code",
   "execution_count": null,
   "metadata": {},
   "outputs": [],
   "source": [
    "min_cover"
   ]
  },
  {
   "cell_type": "code",
   "execution_count": null,
   "metadata": {},
   "outputs": [],
   "source": [
    "sb = states.make_point_statebuilder(\n",
    "    ['ends', 'branches'],\n",
    "    resolution=[4,4,40],\n",
    "    use_skeleton_service=True,\n",
    "    split_positions=True,\n",
    "    client=client,\n",
    "    root_ids=[root_id],\n",
    ")"
   ]
  },
  {
   "cell_type": "code",
   "execution_count": 10,
   "metadata": {},
   "outputs": [],
   "source": [
    "sb = states.make_path_statebuilder(\n",
    "    color='white',\n",
    "    resolution=[4,4,40],\n",
    "    use_skeleton_service=True,\n",
    "    split_positions=True,\n",
    "    client=client,\n",
    "    root_ids=[root_id],\n",
    ")"
   ]
  },
  {
   "cell_type": "code",
   "execution_count": null,
   "metadata": {},
   "outputs": [],
   "source": [
    "print(\n",
    "    sb.render_state({'cover-path': path_df}, return_as='short', config_key=client.datastack_name)\n",
    ")"
   ]
  },
  {
   "cell_type": "code",
   "execution_count": null,
   "metadata": {},
   "outputs": [],
   "source": [
    "np.linalg.norm(path_df[['pointA_x', 'pointA_y', 'pointA_z']].values - path_df[['pointB_x', 'pointB_y', 'pointB_z']].values, axis=1)"
   ]
  },
  {
   "cell_type": "code",
   "execution_count": null,
   "metadata": {},
   "outputs": [],
   "source": [
    "np.array([np.nan, np.nan, np.nan]).reshape((1,3))"
   ]
  },
  {
   "cell_type": "code",
   "execution_count": 12,
   "metadata": {},
   "outputs": [],
   "source": [
    "sk = nrn.skeleton"
   ]
  },
  {
   "cell_type": "code",
   "execution_count": null,
   "metadata": {},
   "outputs": [],
   "source": [
    "paths = sk.cover_paths_with_parent()"
   ]
  },
  {
   "cell_type": "code",
   "execution_count": null,
   "metadata": {},
   "outputs": [],
   "source": [
    "np.array(sk.path_length(paths=paths))"
   ]
  },
  {
   "cell_type": "code",
   "execution_count": null,
   "metadata": {},
   "outputs": [],
   "source": [
    "from scipy import interpolate"
   ]
  },
  {
   "cell_type": "code",
   "execution_count": 37,
   "metadata": {},
   "outputs": [],
   "source": [
    "ds = sk.distance_to_root[cps[0][::-1]]"
   ]
  },
  {
   "cell_type": "code",
   "execution_count": 38,
   "metadata": {},
   "outputs": [],
   "source": [
    "step_size = 1_000"
   ]
  },
  {
   "cell_type": "code",
   "execution_count": 56,
   "metadata": {},
   "outputs": [],
   "source": [
    "def interpolate_path(path, sk, step_size):\n",
    "    path = path[::-1]\n",
    "    ds = sk.distance_to_root[path]\n",
    "    new_ds = np.arange(ds[0], ds[-1], step_size)\n",
    "    return np.vstack(\n",
    "        [\n",
    "            np.interp(new_ds, ds, sk.vertices[path, 0]),\n",
    "            np.interp(new_ds, ds, sk.vertices[path, 1]),\n",
    "            np.interp(new_ds, ds, sk.vertices[path, 2]),\n",
    "        ],\n",
    "    ).T"
   ]
  },
  {
   "cell_type": "code",
   "execution_count": null,
   "metadata": {},
   "outputs": [],
   "source": [
    "interpolate_path(cps[0], sk, 1_000)"
   ]
  },
  {
   "cell_type": "code",
   "execution_count": null,
   "metadata": {},
   "outputs": [],
   "source": [
    "ds_interp = np.linspace(\n",
    "    ds[0], ds[-1], np.round((ds[-1] - ds[]) / step_size).astype(int),\n",
    ")"
   ]
  },
  {
   "cell_type": "code",
   "execution_count": 41,
   "metadata": {},
   "outputs": [],
   "source": [
    "xs = nrn.skeleton.vertices[cps[0][::-1], 0]"
   ]
  },
  {
   "cell_type": "code",
   "execution_count": null,
   "metadata": {},
   "outputs": [],
   "source": [
    "np.interp(\n",
    "    ds_interp,\n",
    "    ds,\n",
    "    xs,\n",
    ")"
   ]
  },
  {
   "cell_type": "code",
   "execution_count": null,
   "metadata": {},
   "outputs": [],
   "source": [
    "colnames = [f\"{pre}_{suf}\" for pre in ['pointA', 'pointB'] for suf in ['x', 'y', 'z'] ]\n",
    "\n",
    "pd.DataFrame(\n",
    "    np.concatenate([sk.vertices[cps[0][:-1]], sk.vertices[cps[0][1:]]], axis=1),\n",
    "    columns=colnames,\n",
    ")"
   ]
  },
  {
   "cell_type": "code",
   "execution_count": 8,
   "metadata": {},
   "outputs": [],
   "source": [
    "split_lvl2_id = pcg_skel.chunk_tools.get_closest_lvl2_chunk(\n",
    "    point=split_point,\n",
    "    root_id=root_id,\n",
    "    client=client,\n",
    "    voxel_resolution=client.info.viewer_resolution(),\n",
    "    radius=300,\n",
    ")\n"
   ]
  },
  {
   "cell_type": "code",
   "execution_count": null,
   "metadata": {},
   "outputs": [],
   "source": [
    "processing.add_downstream_column(\n",
    "    vertex_df,\n",
    "    split_lvl2_id,\n",
    ").query('is_downstream')"
   ]
  },
  {
   "cell_type": "code",
   "execution_count": 6,
   "metadata": {},
   "outputs": [],
   "source": [
    "l2s_long = vertex_df['lvl2_id'].explode()\n",
    "split_vert = l2s_long[l2s_long==split_lvl2_id].index[0]"
   ]
  },
  {
   "cell_type": "code",
   "execution_count": null,
   "metadata": {},
   "outputs": [],
   "source": []
  },
  {
   "cell_type": "code",
   "execution_count": null,
   "metadata": {},
   "outputs": [],
   "source": [
    "l2s_long = vertex_df['lvl2_id'].explode()\n",
    "split_vert = l2s_long[l2s_long==split_lvl2_id].index[0]"
   ]
  },
  {
   "cell_type": "code",
   "execution_count": 16,
   "metadata": {},
   "outputs": [],
   "source": [
    "from meshparty import skeleton"
   ]
  },
  {
   "cell_type": "code",
   "execution_count": null,
   "metadata": {},
   "outputs": [],
   "source": [
    "vertex_df.head()"
   ]
  },
  {
   "cell_type": "code",
   "execution_count": null,
   "metadata": {},
   "outputs": [],
   "source": [
    "vertex_df.query(f\"{\"parent\"}!=-1\")[\"parent\"].reset_index().values"
   ]
  },
  {
   "cell_type": "code",
   "execution_count": null,
   "metadata": {},
   "outputs": [],
   "source": [
    "skeleton.Skeleton(\n",
    "    vertices=vertex_df[['pt_x', 'pt_y', 'pt_z']].values,\n",
    "    \n",
    ")"
   ]
  },
  {
   "cell_type": "code",
   "execution_count": null,
   "metadata": {},
   "outputs": [],
   "source": [
    "vertex_df_filt = processing.filter_dataframe(\n",
    "    root_id,\n",
    "    vertex_df,\n",
    "    restriction_direction='downstream-of',\n",
    "    restriction_point=[175417, 186193, 19949],\n",
    "    client=client,\n",
    ")"
   ]
  },
  {
   "cell_type": "code",
   "execution_count": null,
   "metadata": {},
   "outputs": [],
   "source": [
    "vertex_df"
   ]
  },
  {
   "cell_type": "code",
   "execution_count": 6,
   "metadata": {},
   "outputs": [],
   "source": [
    "from datetime import datetime, timedelta, UTC"
   ]
  },
  {
   "cell_type": "code",
   "execution_count": null,
   "metadata": {},
   "outputs": [],
   "source": [
    "vertex_df = processing.add_timestamp_relative_vertex(\n",
    "    root_id=root_id,\n",
    "    vertex_df=vertex_df,\n",
    "    client=client,\n",
    "    horizon_timestamp=datetime.now(UTC) - timedelta(days=365)\n",
    ")"
   ]
  },
  {
   "cell_type": "code",
   "execution_count": null,
   "metadata": {},
   "outputs": [],
   "source": [
    "vertex_df.query('not_in_previous_match')"
   ]
  },
  {
   "cell_type": "code",
   "execution_count": null,
   "metadata": {},
   "outputs": [],
   "source": [
    "vertex_df['lvl2_id'].explode()"
   ]
  },
  {
   "cell_type": "code",
   "execution_count": 10,
   "metadata": {},
   "outputs": [],
   "source": [
    "l2all = vertex_df['lvl2_id'].explode()"
   ]
  },
  {
   "cell_type": "code",
   "execution_count": 7,
   "metadata": {},
   "outputs": [],
   "source": [
    "ts = client.chunkedgraph.get_root_timestamps(\n",
    "    vertex_df['lvl2_id'].explode()\n",
    ")"
   ]
  },
  {
   "cell_type": "code",
   "execution_count": null,
   "metadata": {},
   "outputs": [],
   "source": []
  },
  {
   "cell_type": "code",
   "execution_count": 16,
   "metadata": {},
   "outputs": [],
   "source": [
    "ts_df = pd.DataFrame(\n",
    "    {\n",
    "        'lvl2_id': l2all,\n",
    "        'timestamp': [t.timestamp() for t in ts],\n",
    "    }\n",
    ")"
   ]
  },
  {
   "cell_type": "code",
   "execution_count": null,
   "metadata": {},
   "outputs": [],
   "source": []
  },
  {
   "cell_type": "code",
   "execution_count": null,
   "metadata": {},
   "outputs": [],
   "source": [
    "client.chunkedgraph.get_past_ids?"
   ]
  },
  {
   "cell_type": "code",
   "execution_count": null,
   "metadata": {},
   "outputs": [],
   "source": [
    "other_roots, frac_overlap = client.chunkedgraph.suggest_latest_roots(\n",
    "    root_id=864691135891272841,\n",
    "    timestamp=datetime.now(UTC) - timedelta(days=365),\n",
    "    return_all=True,\n",
    "    stop_layer=2,\n",
    "    return_fraction_overlap=True,\n",
    ")"
   ]
  },
  {
   "cell_type": "code",
   "execution_count": 60,
   "metadata": {},
   "outputs": [],
   "source": [
    "base_lvl2 = client.chunkedgraph.get_leaves(864691135891272841, stop_layer=2)"
   ]
  },
  {
   "cell_type": "code",
   "execution_count": 62,
   "metadata": {},
   "outputs": [],
   "source": [
    "other_lvl2 = client.chunkedgraph.get_leaves(864691135214134328, stop_layer=2)"
   ]
  },
  {
   "cell_type": "code",
   "execution_count": null,
   "metadata": {},
   "outputs": [],
   "source": [
    "len(np.intersect1d(base_lvl2, other_lvl2)) / len(base_lvl2)"
   ]
  },
  {
   "cell_type": "code",
   "execution_count": 85,
   "metadata": {},
   "outputs": [],
   "source": [
    "def get_highest_overlap_lvl2_ids(root_id, timestamp, client):\n",
    "    id_dict = client.chunkedgraph.get_past_ids(\n",
    "        root_ids=root_id,\n",
    "        timestamp_past=timestamp,\n",
    "    )\n",
    "    base_lvl2 = client.chunkedgraph.get_leaves(root_id, stop_layer=2)\n",
    "    past_ids = np.array(id_dict['past_id_map'].get(root_id, []))\n",
    "    past_ids = past_ids[np.argsort(client.chunkedgraph.get_root_timestamps(past_ids))[::-1]]\n",
    "    relative_fracs = []\n",
    "    past_lvl2 = {}\n",
    "    for rid in past_ids:\n",
    "        past_lvl2[rid] = client.chunkedgraph.get_leaves(rid, stop_layer=2)\n",
    "        rel_frac = len(np.intersect1d(base_lvl2, past_lvl2[rid])) / len(base_lvl2)\n",
    "        relative_fracs.append(rel_frac)\n",
    "        if max(relative_fracs) > 1-sum(relative_fracs):\n",
    "            break\n",
    "    highest_past = past_ids[np.argmax(relative_fracs)]\n",
    "    return past_lvl2[highest_past]"
   ]
  },
  {
   "cell_type": "code",
   "execution_count": null,
   "metadata": {},
   "outputs": [],
   "source": [
    "np.argsort(client.chunkedgraph.get_root_timestamps(other_roots))"
   ]
  },
  {
   "cell_type": "code",
   "execution_count": 87,
   "metadata": {},
   "outputs": [],
   "source": [
    "match_l2s = get_highest_overlap_lvl2_ids(864691135891272841, datetime.now(UTC) - timedelta(days=365), client)"
   ]
  },
  {
   "cell_type": "code",
   "execution_count": 93,
   "metadata": {},
   "outputs": [],
   "source": [
    "existed_before = vertex_df['lvl2_id'].explode().isin(match_l2s)\n",
    "existed_before[existed_before].index.unique()"
   ]
  },
  {
   "cell_type": "code",
   "execution_count": null,
   "metadata": {},
   "outputs": [],
   "source": []
  },
  {
   "cell_type": "code",
   "execution_count": null,
   "metadata": {},
   "outputs": [],
   "source": [
    "client.chunkedgraph.get_past_ids(\n",
    "    root_ids=864691135891272841,\n",
    "    timestamp_past=datetime.now(UTC) - timedelta(days=365),\n",
    ")['past_id_map'][864691135891272841]"
   ]
  },
  {
   "cell_type": "code",
   "execution_count": null,
   "metadata": {},
   "outputs": [],
   "source": [
    "ts_df."
   ]
  },
  {
   "cell_type": "code",
   "execution_count": null,
   "metadata": {},
   "outputs": [],
   "source": [
    "utils.update_seen_id_list([], vertex_df).tolist()"
   ]
  },
  {
   "cell_type": "code",
   "execution_count": null,
   "metadata": {},
   "outputs": [],
   "source": [
    "seen_svids = utils.stash_id_list(utils.update_seen_id_list([], vertex_df))"
   ]
  },
  {
   "cell_type": "code",
   "execution_count": null,
   "metadata": {},
   "outputs": [],
   "source": [
    "utils.stash_id_list(utils.update_seen_id_list(seen_svids, vertex_df))"
   ]
  },
  {
   "cell_type": "code",
   "execution_count": null,
   "metadata": {},
   "outputs": [],
   "source": [
    "l2seen = vertex_df['lvl2_id'].explode().isin(seen_svids)\n",
    "l2seen_idx = l2seen[l2seen].index.unique()"
   ]
  },
  {
   "cell_type": "code",
   "execution_count": null,
   "metadata": {},
   "outputs": [],
   "source": [
    "l2seen_idx"
   ]
  },
  {
   "cell_type": "code",
   "execution_count": 8,
   "metadata": {},
   "outputs": [],
   "source": [
    "l2_ids = [123, 421, 5445]\n",
    "new_ids = [123, 111, 59593]"
   ]
  },
  {
   "cell_type": "code",
   "execution_count": null,
   "metadata": {},
   "outputs": [],
   "source": [
    "utils.rehydrate_id_list(\n",
    "    utils.stash_id_list(l2_ids)\n",
    ")"
   ]
  },
  {
   "cell_type": "code",
   "execution_count": null,
   "metadata": {},
   "outputs": [],
   "source": [
    "utils.update_seen_id_list(l2_ids, pd.DataFrame({'lvl2_id': new_ids}))"
   ]
  },
  {
   "cell_type": "code",
   "execution_count": null,
   "metadata": {},
   "outputs": [],
   "source": [
    "client.chunkedgraph.suggest_latest_roots(864691136723961341)"
   ]
  },
  {
   "cell_type": "code",
   "execution_count": 5,
   "metadata": {},
   "outputs": [],
   "source": [
    "syn_df = client.materialize.synapse_query(pre_ids=864691135891272841)"
   ]
  },
  {
   "cell_type": "code",
   "execution_count": null,
   "metadata": {},
   "outputs": [],
   "source": [
    "syn_df['new_thing'] = syn_df['id'].isin([151698981, 168321387])"
   ]
  },
  {
   "cell_type": "code",
   "execution_count": null,
   "metadata": {},
   "outputs": [],
   "source": [
    "syn_df.new_thing"
   ]
  },
  {
   "cell_type": "code",
   "execution_count": null,
   "metadata": {},
   "outputs": [],
   "source": [
    "lvl2_ids = client.chunkedgraph.get_leaves(864691136723961341, stop_layer=2)"
   ]
  },
  {
   "cell_type": "code",
   "execution_count": null,
   "metadata": {},
   "outputs": [],
   "source": [
    "client.chunkedgraph.get_root_timestamps(lvl2_ids)"
   ]
  },
  {
   "cell_type": "code",
   "execution_count": null,
   "metadata": {},
   "outputs": [],
   "source": [
    "client.chunkedgraph.get_root_timestamps(86469113589127284)"
   ]
  },
  {
   "cell_type": "code",
   "execution_count": null,
   "metadata": {},
   "outputs": [],
   "source": [
    "ts"
   ]
  },
  {
   "cell_type": "code",
   "execution_count": null,
   "metadata": {},
   "outputs": [],
   "source": [
    "syn_df['size'].nunique()"
   ]
  },
  {
   "cell_type": "code",
   "execution_count": null,
   "metadata": {},
   "outputs": [],
   "source": [
    "syn_df.id.tolist()"
   ]
  },
  {
   "cell_type": "code",
   "execution_count": 12,
   "metadata": {},
   "outputs": [],
   "source": [
    "nsyn_df = client.materialize.query_table(\n",
    "    'synapses_pni_2',\n",
    "    filter_in_dict={'id': syn_df.id.tolist()}\n",
    ")"
   ]
  },
  {
   "cell_type": "code",
   "execution_count": null,
   "metadata": {},
   "outputs": [],
   "source": []
  },
  {
   "cell_type": "code",
   "execution_count": 3,
   "metadata": {},
   "outputs": [],
   "source": [
    "root_id = 864691136723961341\n",
    "nrn = pcg_skel.service.get_meshwork_from_client(\n",
    "    root_id=root_id,\n",
    "    client=client,\n",
    ")"
   ]
  },
  {
   "cell_type": "code",
   "execution_count": 4,
   "metadata": {},
   "outputs": [],
   "source": [
    "df = processing.process_meshwork_to_dataframe(nrn)"
   ]
  },
  {
   "cell_type": "code",
   "execution_count": null,
   "metadata": {},
   "outputs": [],
   "source": [
    "df"
   ]
  },
  {
   "cell_type": "code",
   "execution_count": null,
   "metadata": {},
   "outputs": [],
   "source": [
    "processing.add_downstream_column(df, base_lvl2_id=157572592595632752).value_counts('is_downstream')"
   ]
  },
  {
   "cell_type": "code",
   "execution_count": null,
   "metadata": {},
   "outputs": [],
   "source": [
    "dfe = "
   ]
  },
  {
   "cell_type": "code",
   "execution_count": 16,
   "metadata": {},
   "outputs": [],
   "source": [
    "base_id = 156868424184627514"
   ]
  },
  {
   "cell_type": "code",
   "execution_count": 23,
   "metadata": {},
   "outputs": [],
   "source": [
    "first_skind = df.explode('lvl2_id').query('lvl2_id==@base_id')['parent'].values[0]"
   ]
  },
  {
   "cell_type": "code",
   "execution_count": 26,
   "metadata": {},
   "outputs": [],
   "source": [
    "upstream_skind = []\n",
    "parents = df['parent'].values\n",
    "next_parent = first_skind\n",
    "while next_parent >= 0:\n",
    "    upstream_skind.append(int(next_parent))\n",
    "    next_parent = parents[next_parent]"
   ]
  },
  {
   "cell_type": "code",
   "execution_count": 28,
   "metadata": {},
   "outputs": [],
   "source": [
    "from scipy import sparse"
   ]
  },
  {
   "cell_type": "code",
   "execution_count": 29,
   "metadata": {},
   "outputs": [],
   "source": [
    "from meshparty import skeleton"
   ]
  },
  {
   "cell_type": "code",
   "execution_count": null,
   "metadata": {},
   "outputs": [],
   "source": [
    "df"
   ]
  },
  {
   "cell_type": "code",
   "execution_count": null,
   "metadata": {},
   "outputs": [],
   "source": [
    "df.query('parent!=-1')['parent'].reset_index().values"
   ]
  },
  {
   "cell_type": "code",
   "execution_count": null,
   "metadata": {},
   "outputs": [],
   "source": [
    "int(df.query('is_root').index[0])"
   ]
  },
  {
   "cell_type": "code",
   "execution_count": 48,
   "metadata": {},
   "outputs": [],
   "source": [
    "newsk = skeleton.Skeleton(\n",
    "    vertices=df[['x', 'y', 'z']].values,\n",
    "    edges=df.query('parent!=-1')['parent'].reset_index().values,\n",
    "    root=int(df.query('is_root').index[0])\n",
    ")"
   ]
  },
  {
   "cell_type": "code",
   "execution_count": 49,
   "metadata": {},
   "outputs": [],
   "source": [
    "first_skind = df.explode('lvl2_id').query('lvl2_id==@base_id')['parent'].values[0]"
   ]
  },
  {
   "cell_type": "code",
   "execution_count": null,
   "metadata": {},
   "outputs": [],
   "source": [
    "newsk.downstream_nodes(first_skind)"
   ]
  },
  {
   "cell_type": "code",
   "execution_count": null,
   "metadata": {},
   "outputs": [],
   "source": [
    "andvert_df[\"is_end_point\"] = False\n",
    "vert_df.loc[nrn.skeleton.end_points, \"is_end_point\"] = True\n",
    "\n",
    "vert_df[\"is_branch_point\"] = False\n",
    "vert_df.loc[nrn.skeleton.branch_points, \"is_branch_point\"] = True\n"
   ]
  },
  {
   "cell_type": "code",
   "execution_count": null,
   "metadata": {},
   "outputs": [],
   "source": [
    "vert_df.loc[4434, 'is_root'] = True"
   ]
  },
  {
   "cell_type": "code",
   "execution_count": null,
   "metadata": {},
   "outputs": [],
   "source": [
    "vert_df[\"is_root\"] = False\n",
    "vert_df.loc[int(nrn.skeleton.root), \"is_root\"] = True"
   ]
  },
  {
   "cell_type": "code",
   "execution_count": null,
   "metadata": {},
   "outputs": [],
   "source": [
    "v\n",
    "ert_df[\"is_end_point\"] = False\n",
    "vert_df.loc[nrn.skeleton.end_points, \"is_end_point\"] = True\n",
    "\n",
    "vert_df[\"is_branch_point\"] = False\n",
    "vert_df.loc[nrn.skeleton.branch_points, \"is_branch_point\"] = True\n",
    "\n",
    "vert_df[\"is_root\"] = False\n",
    "vert_df.loc[nrn.skeleton.root, \"is_root\"] = True"
   ]
  },
  {
   "cell_type": "code",
   "execution_count": null,
   "metadata": {},
   "outputs": [],
   "source": [
    "processing.process_meshwork_to_dataframe(nrn)"
   ]
  },
  {
   "cell_type": "code",
   "execution_count": null,
   "metadata": {},
   "outputs": [],
   "source": [
    "obj"
   ]
  },
  {
   "cell_type": "code",
   "execution_count": 6,
   "metadata": {},
   "outputs": [],
   "source": [
    "df = client.skeleton.get_skeleton(root_id, output_format='swc')"
   ]
  },
  {
   "cell_type": "code",
   "execution_count": 13,
   "metadata": {},
   "outputs": [],
   "source": [
    "verts = nrn.skeleton.vertices\n",
    "is_axon = nrn.anno.is_axon.mesh_index.to_skel_mask\n",
    "edges = nrn.skeleton.edges"
   ]
  },
  {
   "cell_type": "code",
   "execution_count": 21,
   "metadata": {},
   "outputs": [],
   "source": [
    "import pandas as pd\n",
    "vert_df = pd.DataFrame(\n",
    "    {\n",
    "        'x': verts[:,0].astype(int),\n",
    "        'y': verts[:,1].astype(int),\n",
    "        'z': verts[:,2].astype(int),\n",
    "        'is_axon': is_axon,\n",
    "    }\n",
    ")\n",
    "\n",
    "vert_df['is_end_point'] = False\n",
    "vert_df.loc[nrn.skeleton.end_points, 'is_end_point'] = True\n"
   ]
  },
  {
   "cell_type": "code",
   "execution_count": 35,
   "metadata": {},
   "outputs": [],
   "source": [
    "l2df = nrn.anno.lvl2_ids.df\n",
    "l2df['skind'] = nrn.skeleton.mesh_to_skel_map\n",
    "l2df.groupby('skind')['lvl2_id'].agg(list)"
   ]
  },
  {
   "cell_type": "code",
   "execution_count": null,
   "metadata": {},
   "outputs": [],
   "source": [
    "nrn.skeleton_indices"
   ]
  },
  {
   "cell_type": "code",
   "execution_count": null,
   "metadata": {},
   "outputs": [],
   "source": [
    "sk.parent_nodes(nrn.skeleton_indices)"
   ]
  },
  {
   "cell_type": "code",
   "execution_count": 2,
   "metadata": {},
   "outputs": [],
   "source": [
    "root_id = 864691136723961341\n",
    "nrn = pcg_skel.service.get_meshwork_from_client(\n",
    "    root_id=root_id,\n",
    "    client=client,\n",
    "    synapses=True,\n",
    ")"
   ]
  },
  {
   "cell_type": "code",
   "execution_count": null,
   "metadata": {},
   "outputs": [],
   "source": [
    "nrn.anno.is_axon.mesh_index.to_skel_mask"
   ]
  },
  {
   "cell_type": "code",
   "execution_count": 58,
   "metadata": {},
   "outputs": [],
   "source": [
    "sk = client.skeleton.get_skeleton(root_id, skeleton_version=4)"
   ]
  },
  {
   "cell_type": "code",
   "execution_count": null,
   "metadata": {},
   "outputs": [],
   "source": []
  },
  {
   "cell_type": "code",
   "execution_count": null,
   "metadata": {},
   "outputs": [],
   "source": [
    "np.array(sk['compartment'])"
   ]
  },
  {
   "cell_type": "code",
   "execution_count": null,
   "metadata": {},
   "outputs": [],
   "source": [
    "m2s_map = np.array(sk['mesh_to_skel_map'])"
   ]
  },
  {
   "cell_type": "code",
   "execution_count": 69,
   "metadata": {},
   "outputs": [],
   "source": [
    "compartments = np.array(sk['compartment'])"
   ]
  },
  {
   "cell_type": "code",
   "execution_count": null,
   "metadata": {},
   "outputs": [],
   "source": [
    "compartments[m2s_map]"
   ]
  },
  {
   "cell_type": "code",
   "execution_count": null,
   "metadata": {},
   "outputs": [],
   "source": [
    "len(sk['mesh_to_skel_map'])"
   ]
  },
  {
   "cell_type": "code",
   "execution_count": null,
   "metadata": {},
   "outputs": [],
   "source": [
    "nrn.anno.compartment.df.value_counts('compartment')"
   ]
  },
  {
   "cell_type": "code",
   "execution_count": null,
   "metadata": {},
   "outputs": [],
   "source": []
  },
  {
   "cell_type": "code",
   "execution_count": 55,
   "metadata": {},
   "outputs": [],
   "source": [
    "comp_mask = nrn.MeshIndex(nrn.anno.compartment.df.query('compartment==2').mesh_ind.values).to_mesh_mask"
   ]
  },
  {
   "cell_type": "code",
   "execution_count": null,
   "metadata": {},
   "outputs": [],
   "source": [
    "with nrn.mask_context(comp_mask):\n",
    "    print(len(nrn.anno.pre_syn.df))\n",
    "    print(len(nrn.anno.post_syn.df))"
   ]
  },
  {
   "cell_type": "code",
   "execution_count": null,
   "metadata": {},
   "outputs": [],
   "source": [
    "client.chunkedgraph.is_valid_nodes(864691135428878637)"
   ]
  },
  {
   "cell_type": "code",
   "execution_count": null,
   "metadata": {},
   "outputs": [],
   "source": [
    "root_id = 864691135428878637 \n",
    "\n",
    "nrn = pcg_skel.service.get_meshwork_from_client?"
   ]
  },
  {
   "cell_type": "code",
   "execution_count": null,
   "metadata": {},
   "outputs": [],
   "source": []
  }
 ],
 "metadata": {
  "kernelspec": {
   "display_name": ".venv",
   "language": "python",
   "name": "python3"
  },
  "language_info": {
   "codemirror_mode": {
    "name": "ipython",
    "version": 3
   },
   "file_extension": ".py",
   "mimetype": "text/x-python",
   "name": "python",
   "nbconvert_exporter": "python",
   "pygments_lexer": "ipython3",
   "version": "3.12.7"
  }
 },
 "nbformat": 4,
 "nbformat_minor": 2
}
